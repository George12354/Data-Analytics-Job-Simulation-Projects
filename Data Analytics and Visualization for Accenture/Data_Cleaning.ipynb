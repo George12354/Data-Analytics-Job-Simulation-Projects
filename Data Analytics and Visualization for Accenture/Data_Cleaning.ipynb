{
 "cells": [
  {
   "cell_type": "code",
   "execution_count": 1,
   "metadata": {},
   "outputs": [],
   "source": [
    "import pandas as pd"
   ]
  },
  {
   "cell_type": "code",
   "execution_count": 2,
   "metadata": {},
   "outputs": [],
   "source": [
    "df = pd.read_excel('03 Diversity-Inclusion-Dataset.xlsx', sheet_name='03 Diversity-Inclusion-Dataset')"
   ]
  },
  {
   "cell_type": "code",
   "execution_count": 3,
   "metadata": {},
   "outputs": [
    {
     "data": {
      "text/plain": [
       "Employee ID                            0\n",
       "Gender                                 0\n",
       "Job Level after FY20 promotions        0\n",
       "New hire FY20?                         0\n",
       "FY20 Performance Rating               87\n",
       "Promotion in FY21?                     0\n",
       "In base group for Promotion FY21       0\n",
       "Target hire balance                    0\n",
       "FY20 leaver?                           0\n",
       "In base group for turnover FY20        0\n",
       "Department @01.07.2020                 0\n",
       "Leaver FY                            453\n",
       "Job Level after FY21 promotions       47\n",
       "Last Department in FY20                0\n",
       "FTE group                              0\n",
       "Time type                              0\n",
       "Department & JL group PRA status      62\n",
       "Department & JL group for PRA         62\n",
       "Job Level group PRA status            62\n",
       "Job Level group for PRA               62\n",
       "Time in Job Level @01.07.2020          0\n",
       "Job Level before FY20 promotions      66\n",
       "Promotion in FY20?                     0\n",
       "FY19 Performance Rating              114\n",
       "Age group                              0\n",
       "Age @01.07.2020                        0\n",
       "Nationality 1                          0\n",
       "Region group: nationality 1            0\n",
       "Broad region group: nationality 1      0\n",
       "Last hire date                         0\n",
       "Years since last hire                  0\n",
       "Rand                                   0\n",
       "dtype: int64"
      ]
     },
     "execution_count": 3,
     "metadata": {},
     "output_type": "execute_result"
    }
   ],
   "source": [
    "df.isnull().sum()"
   ]
  },
  {
   "cell_type": "code",
   "execution_count": 10,
   "metadata": {},
   "outputs": [],
   "source": [
    "df.fillna({\n",
    "    'FY20 Performance Rating': 0,\n",
    "    'Leaver FY': 'Stil Active',\n",
    "    'Job Level after FY21 promotions': 'MIA',\n",
    "    'Department & JL group PRA status': 'NaN',\n",
    "    'Department & JL group for PRA': 'NaN',\n",
    "    'Job Level group PRA status': 'NaN',\n",
    "    'Job Level group for PRA': 'NaN',\n",
    "    'FY19 Performance Rating': 0,\n",
    "    'Job Level before FY20 promotions': df['Job Level after FY20 promotions']\n",
    "}, inplace=True)\n"
   ]
  },
  {
   "cell_type": "code",
   "execution_count": 11,
   "metadata": {},
   "outputs": [
    {
     "data": {
      "text/plain": [
       "Employee ID                          0\n",
       "Gender                               0\n",
       "Job Level after FY20 promotions      0\n",
       "New hire FY20?                       0\n",
       "FY20 Performance Rating              0\n",
       "Promotion in FY21?                   0\n",
       "In base group for Promotion FY21     0\n",
       "Target hire balance                  0\n",
       "FY20 leaver?                         0\n",
       "In base group for turnover FY20      0\n",
       "Department @01.07.2020               0\n",
       "Leaver FY                            0\n",
       "Job Level after FY21 promotions      0\n",
       "Last Department in FY20              0\n",
       "FTE group                            0\n",
       "Time type                            0\n",
       "Department & JL group PRA status     0\n",
       "Department & JL group for PRA        0\n",
       "Job Level group PRA status           0\n",
       "Job Level group for PRA              0\n",
       "Time in Job Level @01.07.2020        0\n",
       "Job Level before FY20 promotions     0\n",
       "Promotion in FY20?                   0\n",
       "FY19 Performance Rating              0\n",
       "Age group                            0\n",
       "Age @01.07.2020                      0\n",
       "Nationality 1                        0\n",
       "Region group: nationality 1          0\n",
       "Broad region group: nationality 1    0\n",
       "Last hire date                       0\n",
       "Years since last hire                0\n",
       "Rand                                 0\n",
       "dtype: int64"
      ]
     },
     "execution_count": 11,
     "metadata": {},
     "output_type": "execute_result"
    }
   ],
   "source": [
    "df.isna().sum()"
   ]
  },
  {
   "cell_type": "code",
   "execution_count": null,
   "metadata": {},
   "outputs": [],
   "source": [
    "df['Last hire date'] = pd.to_datetime(df['Last hire date'])"
   ]
  },
  {
   "cell_type": "code",
   "execution_count": 19,
   "metadata": {},
   "outputs": [
    {
     "data": {
      "text/plain": [
       "0"
      ]
     },
     "execution_count": 19,
     "metadata": {},
     "output_type": "execute_result"
    }
   ],
   "source": [
    "df.duplicated().sum()"
   ]
  },
  {
   "cell_type": "code",
   "execution_count": 17,
   "metadata": {},
   "outputs": [],
   "source": [
    "df.to_excel('cleaned_data.xlsx', index=False)"
   ]
  }
 ],
 "metadata": {
  "kernelspec": {
   "display_name": "Python 3",
   "language": "python",
   "name": "python3"
  },
  "language_info": {
   "codemirror_mode": {
    "name": "ipython",
    "version": 3
   },
   "file_extension": ".py",
   "mimetype": "text/x-python",
   "name": "python",
   "nbconvert_exporter": "python",
   "pygments_lexer": "ipython3",
   "version": "3.12.5"
  }
 },
 "nbformat": 4,
 "nbformat_minor": 2
}
